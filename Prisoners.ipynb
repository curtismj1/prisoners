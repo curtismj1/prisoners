{
 "cells": [
  {
   "cell_type": "code",
   "execution_count": null,
   "metadata": {},
   "outputs": [],
   "source": []
  },
  {
   "cell_type": "code",
   "execution_count": 26,
   "metadata": {},
   "outputs": [
    {
     "data": {
      "text/plain": [
       "2"
      ]
     },
     "execution_count": 26,
     "metadata": {},
     "output_type": "execute_result"
    }
   ],
   "source": [
    "from random import shuffle\n",
    "\n",
    "def run_simulation():\n",
    "    cards = list(range(99))\n",
    "    shuffle(cards)\n",
    "    all_cards = set(range(100))\n",
    "    for prisoner in range(99):\n",
    "        card = prisoner\n",
    "        tryNum = 0\n",
    "        visited = set()\n",
    "        visited.add(card)\n",
    "        while cards[card] != card and tryNum < 50:\n",
    "            card = cards[card]\n",
    "            if card in visited:\n",
    "                card = next(iter((all_cards - visited)))\n",
    "            visited.add(card)\n",
    "            tryNum += 1\n",
    "        if tryNum == 50:\n",
    "            return False\n",
    "    return True\n",
    "\n",
    "success = 0\n",
    "for i in range(1000):\n",
    "    if run_simulation():\n",
    "        success += 1\n",
    "\n",
    "success\n"
   ]
  }
 ],
 "metadata": {
  "kernelspec": {
   "display_name": "Python 3.7.3 64-bit",
   "language": "python",
   "name": "python3"
  },
  "language_info": {
   "codemirror_mode": {
    "name": "ipython",
    "version": 3
   },
   "file_extension": ".py",
   "mimetype": "text/x-python",
   "name": "python",
   "nbconvert_exporter": "python",
   "pygments_lexer": "ipython3",
   "version": "3.7.3"
  },
  "orig_nbformat": 4,
  "vscode": {
   "interpreter": {
    "hash": "31f2aee4e71d21fbe5cf8b01ff0e069b9275f58929596ceb00d14d90e3e16cd6"
   }
  }
 },
 "nbformat": 4,
 "nbformat_minor": 2
}
